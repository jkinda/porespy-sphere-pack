{
 "cells": [
  {
   "cell_type": "markdown",
   "metadata": {},
   "source": [
    "## initially developped by kinda"
   ]
  },
  {
   "cell_type": "code",
   "execution_count": 3,
   "metadata": {},
   "outputs": [
    {
     "name": "stdout",
     "output_type": "stream",
     "text": [
      "CSV file saved at: F1_meso_disk_last.csv\n"
     ]
    }
   ],
   "source": [
    "import pandas as pd\n",
    "\n",
    "# Define the file paths\n",
    "xyz_file_path = 'F1_meso_disk_last.xyz'\n",
    "csv_file_path = 'F1_meso_disk_last.csv'\n",
    "\n",
    "# Load the XYZ file\n",
    "with open(xyz_file_path, 'r') as file:\n",
    "    file_content = file.readlines()\n",
    "\n",
    "# Extract data entries from the file (ignoring metadata for now)\n",
    "data_lines = file_content[2:]  # Data starts from the third line\n",
    "\n",
    "# Define the desired column order\n",
    "columns = ['ID', 'X', 'Y', 'Z']\n",
    "\n",
    "# Parse the data and reorder columns as specified\n",
    "data = [line.strip().split() for line in data_lines]\n",
    "formatted_data = [[int(row[4]), float(row[1]), float(row[2]), float(row[3])] for row in data]\n",
    "\n",
    "# Convert the parsed data into a pandas DataFrame\n",
    "df = pd.DataFrame(formatted_data, columns=columns)\n",
    "\n",
    "# Save the DataFrame as a CSV file\n",
    "df.to_csv(csv_file_path, index=False)\n",
    "\n",
    "# Output the path to the saved CSV file\n",
    "print(f\"CSV file saved at: {csv_file_path}\")\n"
   ]
  }
 ],
 "metadata": {
  "kernelspec": {
   "display_name": "base",
   "language": "python",
   "name": "python3"
  },
  "language_info": {
   "codemirror_mode": {
    "name": "ipython",
    "version": 3
   },
   "file_extension": ".py",
   "mimetype": "text/x-python",
   "name": "python",
   "nbconvert_exporter": "python",
   "pygments_lexer": "ipython3",
   "version": "3.12.7"
  }
 },
 "nbformat": 4,
 "nbformat_minor": 2
}
